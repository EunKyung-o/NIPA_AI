{
  "nbformat": 4,
  "nbformat_minor": 0,
  "metadata": {
    "colab": {
      "name": "01 NumPy 사용해보기.ipynb",
      "provenance": [],
      "collapsed_sections": [],
      "mount_file_id": "1WU7UmRMxWqGrtc-0OUdSlMrn9Fs1aIm-",
      "authorship_tag": "ABX9TyMBGzOe9ezDagOm5Kx9W6F1",
      "include_colab_link": true
    },
    "kernelspec": {
      "name": "python3",
      "display_name": "Python 3"
    }
  },
  "cells": [
    {
      "cell_type": "markdown",
      "metadata": {
        "id": "view-in-github",
        "colab_type": "text"
      },
      "source": [
        "<a href=\"https://colab.research.google.com/github/EunKyung-o/NIPA_AI/blob/master/02_%EC%84%A0%ED%83%9D_%ED%8C%8C%EC%9D%B4%EC%8D%AC%EC%9C%BC%EB%A1%9C%20%EC%8B%9C%EC%9E%91%ED%95%98%EB%8A%94%20%EB%8D%B0%EC%9D%B4%ED%84%B0%20%EB%B6%84%EC%84%9D/01%20NumPy%20%EC%82%AC%EC%9A%A9%ED%95%B4%EB%B3%B4%EA%B8%B0.ipynb\" target=\"_parent\"><img src=\"https://colab.research.google.com/assets/colab-badge.svg\" alt=\"Open In Colab\"/></a>"
      ]
    },
    {
      "cell_type": "markdown",
      "metadata": {
        "id": "E1deDNskFFo5"
      },
      "source": [
        "# 배열 만들기"
      ]
    },
    {
      "cell_type": "code",
      "metadata": {
        "id": "ePT9uOPkFLE5"
      },
      "source": [
        "import numpy as np\n",
        "\n",
        "# 0부터 5사이 랜덤한 값이 담긴 3x5 array를 만들어 봅시다!\n",
        "array = np.random.randint(0, 5, (3,5))"
      ],
      "execution_count": 1,
      "outputs": []
    },
    {
      "cell_type": "markdown",
      "metadata": {
        "id": "c8kidqXSFfc6"
      },
      "source": [
        "# 배열의 기초"
      ]
    },
    {
      "cell_type": "code",
      "metadata": {
        "colab": {
          "base_uri": "https://localhost:8080/"
        },
        "id": "h7GEzHLnFnR7",
        "outputId": "994f8c38-0cd5-48a8-d638-b9bfe12062b6"
      },
      "source": [
        "print(\"1차원 array\")\n",
        "array = np.arange(10)\n",
        "print(array, \"\\n\")\n",
        "\n",
        "# Q1. array의 자료형을 출력해보세요.\n",
        "print(\"자료형 :\", type(array))\n",
        "\n",
        "# Q2. array의 차원을 출력해보세요.\n",
        "print(\"차원 :\", array.ndim)\n",
        "\n",
        "# Q3. array의 모양을 출력해보세요.\n",
        "print(\"모양 :\", array.shape)\n",
        "\n",
        "# Q4. array의 크기를 출력해보세요.\n",
        "print(\"크기 :\", array.size)\n",
        "\n",
        "# Q5. array의 dtype(data type)을 출력해보세요.\n",
        "print(\"dtype :\", array.dtype)\n",
        "\n",
        "# Q6. array의 인덱스 5의 요소를 출력해보세요.\n",
        "print(\"인덱스 5의 요소 :\", array[5])\n",
        "\n",
        "# Q7. array의 인덱스 3의 요소부터 인덱스 5 요소까지 출력해보세요.\n",
        "print(\"인덱스 3의 요소부터 인덱스 5 요소까지 :\", array[3:6])"
      ],
      "execution_count": 13,
      "outputs": [
        {
          "output_type": "stream",
          "text": [
            "1차원 array\n",
            "[0 1 2 3 4 5 6 7 8 9] \n",
            "\n",
            "자료형 : <class 'numpy.ndarray'>\n",
            "차원 : 1\n",
            "모양 : (10,)\n",
            "크기 : 10\n",
            "dtype : int64\n",
            "인덱스 5의 요소 : 5\n",
            "인덱스 3의 요소부터 인덱스 5 요소까지 : [3 4 5]\n"
          ],
          "name": "stdout"
        }
      ]
    },
    {
      "cell_type": "code",
      "metadata": {
        "colab": {
          "base_uri": "https://localhost:8080/"
        },
        "id": "zF5pCH6aF4Di",
        "outputId": "923bc3d6-8161-478b-c917-47fd91f22551"
      },
      "source": [
        "print(\"2차원 array\")\n",
        "matrix = np.arange(1, 16).reshape(3,5)  #1부터 15까지 들어있는 (3,5)짜리 배열을 만듭니다.\n",
        "print(matrix, \"\\n\")\n",
        "\n",
        "# Q1. matrix의 자료형을 출력해보세요.\n",
        "print(\"자료형 :\", type(matrix))\n",
        "\n",
        "# Q2. matrix의 차원을 출력해보세요.\n",
        "print(\"차원 :\", matrix.ndim)\n",
        "\n",
        "# Q3. matrix의 모양을 출력해보세요.\n",
        "print(\"모양 :\", matrix.shape)\n",
        "\n",
        "# Q4. matrix의 크기를 출력해보세요.\n",
        "print(\"크기 :\", matrix.size)\n",
        "\n",
        "# Q5. matrix의 dtype(data type)을 출력해보세요.\n",
        "print(\"dtype :\", matrix.dtype)\n",
        "\n",
        "# Q6. matrix의 (2,3) 인덱스의 요소를 출력해보세요.\n",
        "print(\"(2,3) 인덱스의 요소 :\", matrix[2,3])\n",
        "\n",
        "# Q7. matrix의 행은 인덱스 0부터 인덱스 1까지, 열은 인덱스 1부터 인덱스 3까지 출력해보세요.\n",
        "print(\"행은 인덱스 0부터 인덱스 1까지, 열은 인덱스 1부터 인덱스 3까지 :\")\n",
        "print(matrix[0:2, 1:4])"
      ],
      "execution_count": 12,
      "outputs": [
        {
          "output_type": "stream",
          "text": [
            "2차원 array\n",
            "[[ 1  2  3  4  5]\n",
            " [ 6  7  8  9 10]\n",
            " [11 12 13 14 15]] \n",
            "\n",
            "자료형 : <class 'numpy.ndarray'>\n",
            "차원 : 2\n",
            "모양 : (3, 5)\n",
            "크기 : 15\n",
            "dtype : int64\n",
            "(2,3) 인덱스의 요소 : 14\n",
            "행은 인덱스 0부터 인덱스 1까지, 열은 인덱스 1부터 인덱스 3까지 :\n",
            "[[2 3 4]\n",
            " [7 8 9]]\n"
          ],
          "name": "stdout"
        }
      ]
    },
    {
      "cell_type": "markdown",
      "metadata": {
        "id": "GZU9MM04GtXM"
      },
      "source": [
        "# Reshape & 이어붙이고 나누기"
      ]
    },
    {
      "cell_type": "code",
      "metadata": {
        "colab": {
          "base_uri": "https://localhost:8080/"
        },
        "id": "1OFSvc1SG03-",
        "outputId": "00aed1d9-41fe-4870-acc8-739b06aa76f7"
      },
      "source": [
        "print(\"array :\")\n",
        "array = np.arange(8)\n",
        "print(array)\n",
        "print(\"shape :\", array.shape, \"\\n\")\n",
        "\n",
        "# Q1. array를 (2,4) 크기로 reshape하여 matrix에 저장한 뒤 matrix와 그의 shape를 출력해보세요.\n",
        "print(\"reshape (2, 4) :\")\n",
        "matrix = array.reshape(2, 4)\n",
        "\n",
        "print(matrix)\n",
        "print(\"shape :\", matrix.shape)"
      ],
      "execution_count": 20,
      "outputs": [
        {
          "output_type": "stream",
          "text": [
            "array :\n",
            "[0 1 2 3 4 5 6 7]\n",
            "shape : (8,) \n",
            "\n",
            "reshape (2, 4) :\n",
            "[[0 1 2 3]\n",
            " [4 5 6 7]]\n",
            "shape : (2, 4)\n"
          ],
          "name": "stdout"
        }
      ]
    },
    {
      "cell_type": "code",
      "metadata": {
        "colab": {
          "base_uri": "https://localhost:8080/"
        },
        "id": "Dh5JZQrVHKyh",
        "outputId": "01ac69ce-5630-4ec8-8b55-5dec2b0064a4"
      },
      "source": [
        "print(\"matrix :\")\n",
        "matrix = np.array([[0,1,2,3],\n",
        "                   [4,5,6,7]])\n",
        "print(matrix)\n",
        "print(\"shape :\", matrix.shape, \"\\n\")\n",
        "\n",
        "# Q1. matrix 두 개를 세로로 붙이기 \n",
        "m = np.concatenate([matrix, matrix])\n",
        "print(m)\n",
        "\n",
        "# Q2. matrix 두 개를 가로로 붙이기\n",
        "n = np.concatenate([matrix, matrix], axis = 1)\n",
        "print(n)"
      ],
      "execution_count": 19,
      "outputs": [
        {
          "output_type": "stream",
          "text": [
            "matrix :\n",
            "[[0 1 2 3]\n",
            " [4 5 6 7]]\n",
            "shape : (2, 4) \n",
            "\n",
            "[[0 1 2 3]\n",
            " [4 5 6 7]\n",
            " [0 1 2 3]\n",
            " [4 5 6 7]]\n",
            "[[0 1 2 3 0 1 2 3]\n",
            " [4 5 6 7 4 5 6 7]]\n"
          ],
          "name": "stdout"
        }
      ]
    },
    {
      "cell_type": "code",
      "metadata": {
        "colab": {
          "base_uri": "https://localhost:8080/"
        },
        "id": "IXQaPNYwH-2T",
        "outputId": "ea18edf9-566d-4b50-8533-703f695d5984"
      },
      "source": [
        "print(\"matrix :\")\n",
        "matrix = np.array([[ 0, 1, 2, 3],\n",
        "                   [ 4, 5, 6, 7],\n",
        "                   [ 8, 9,10,11], \n",
        "                   [12,13,14,15]])\n",
        "print(matrix, \"\\n\")\n",
        "\n",
        "# Q1. matrix를 [3] 행에서 axis 0으로 나누기\n",
        "a, b = np.split(matrix, [3], axis=0)\n",
        "print(\"split 1 :\")\n",
        "print(a)\n",
        "print(\"split 2 :\")\n",
        "print(b, \"\\n\")\n",
        "\n",
        "# Q2. matrix를 [1] 열에서 axis 1로 나누기\n",
        "c, d = np.split(matrix, [1], axis=1)\n",
        "print(\"split 1 :\")\n",
        "print(c)\n",
        "print(\"split 2 :\")\n",
        "print(d)\n"
      ],
      "execution_count": 25,
      "outputs": [
        {
          "output_type": "stream",
          "text": [
            "matrix :\n",
            "[[ 0  1  2  3]\n",
            " [ 4  5  6  7]\n",
            " [ 8  9 10 11]\n",
            " [12 13 14 15]] \n",
            "\n",
            "split 1 :\n",
            "[[ 0  1  2  3]\n",
            " [ 4  5  6  7]\n",
            " [ 8  9 10 11]]\n",
            "split 2 :\n",
            "[[12 13 14 15]] \n",
            "\n",
            "split 1 :\n",
            "[[ 0]\n",
            " [ 4]\n",
            " [ 8]\n",
            " [12]]\n",
            "split 2 :\n",
            "[[ 1  2  3]\n",
            " [ 5  6  7]\n",
            " [ 9 10 11]\n",
            " [13 14 15]]\n"
          ],
          "name": "stdout"
        }
      ]
    },
    {
      "cell_type": "markdown",
      "metadata": {
        "id": "cHR9hiIiIk9d"
      },
      "source": [
        "# Numpy 연산"
      ]
    },
    {
      "cell_type": "code",
      "metadata": {
        "colab": {
          "base_uri": "https://localhost:8080/"
        },
        "id": "D4YbfT3aIsTA",
        "outputId": "e251dfd8-0e8b-4003-a172-cee06e3d73f2"
      },
      "source": [
        "array = np.array([1,2,3,4,5])\n",
        "print(array)\n",
        "\n",
        "# Q1. array에 5를 더한 값을 출력해보세요.\n",
        "print(array + 5)\n",
        "\n",
        "# Q2. array에 5를 뺀 값을 출력해보세요.\n",
        "print(array - 5)\n",
        "\n",
        "# Q3. array에 5를 곱한 값을 출력해보세요.\n",
        "print(array * 5)\n",
        "\n",
        "# Q4. array를 5로 나눈 값을 출력해보세요.\n",
        "print(array / 5)\n",
        "\n",
        "# Q5. array에 array2를 더한 값을 출력해보세요.    \n",
        "array2 = np.array([5,4,3,2,1])\n",
        "print(array + array2)\n",
        "\n",
        "# Q6. array에 array2를 뺀 값을 출력해보세요.\n",
        "print(array - array2)"
      ],
      "execution_count": 26,
      "outputs": [
        {
          "output_type": "stream",
          "text": [
            "[1 2 3 4 5]\n",
            "[ 6  7  8  9 10]\n",
            "[-4 -3 -2 -1  0]\n",
            "[ 5 10 15 20 25]\n",
            "[0.2 0.4 0.6 0.8 1. ]\n",
            "[6 6 6 6 6]\n",
            "[-4 -2  0  2  4]\n"
          ],
          "name": "stdout"
        }
      ]
    },
    {
      "cell_type": "markdown",
      "metadata": {
        "id": "GOqHyxFwJJJX"
      },
      "source": [
        "# 브로드캐스팅"
      ]
    },
    {
      "cell_type": "code",
      "metadata": {
        "colab": {
          "base_uri": "https://localhost:8080/"
        },
        "id": "v4E4Z4faJOQ8",
        "outputId": "bc32374b-6c46-4dfa-f422-c55997a7b10d"
      },
      "source": [
        "A = np.arange(6).reshape(6,1)\n",
        "print(A)\n",
        "B = np.arange(6)\n",
        "print(B, \"\\n\")\n",
        "print(A+B)"
      ],
      "execution_count": 27,
      "outputs": [
        {
          "output_type": "stream",
          "text": [
            "[[0]\n",
            " [1]\n",
            " [2]\n",
            " [3]\n",
            " [4]\n",
            " [5]]\n",
            "[0 1 2 3 4 5] \n",
            "\n",
            "[[ 0  1  2  3  4  5]\n",
            " [ 1  2  3  4  5  6]\n",
            " [ 2  3  4  5  6  7]\n",
            " [ 3  4  5  6  7  8]\n",
            " [ 4  5  6  7  8  9]\n",
            " [ 5  6  7  8  9 10]]\n"
          ],
          "name": "stdout"
        }
      ]
    },
    {
      "cell_type": "markdown",
      "metadata": {
        "id": "QYK2TlwVJgnt"
      },
      "source": [
        "# 집계함수 & 마스킹연산\n"
      ]
    },
    {
      "cell_type": "code",
      "metadata": {
        "colab": {
          "base_uri": "https://localhost:8080/"
        },
        "id": "Gaoy4oznJhKH",
        "outputId": "b61f0b9a-4014-4b02-cc8f-8b0ff046d760"
      },
      "source": [
        "matrix = np.arange(8).reshape((2, 4))\n",
        "print(matrix)\n",
        "\n",
        "# Q1. sum 함수로 matrix의 총 합계를 구해 출력해보세요.\n",
        "print(np.sum(matrix))\n",
        "\n",
        "# Q2. max 함수로 matrix 중 최댓값을 구해 출력해보세요.\n",
        "print(np.max(matrix))\n",
        "\n",
        "# Q3. min 함수로 matrix 중 최솟값을 구해 출력해보세요.\n",
        "print(np.min(matrix))\n",
        "\n",
        "# Q4. mean 함수로 matrix의 평균값을 구해 출력해보세요.\n",
        "print(np.mean(matrix))\n",
        "\n",
        "# Q5. sum 함수의 axis 매개변수로 각 열의 합을 구해 출력해보세요.\n",
        "print(np.sum(matrix, axis=0))\n",
        "\n",
        "# Q6. sum 함수의 axis 매개변수로 각 행의 합을 구해 출력해보세요.\n",
        "print(np.sum(matrix, axis=1))\n",
        "\n",
        "# Q7. std 함수로 matrix의 표준편차를 구해 출력해보세요.\n",
        "print(np.std(matrix))\n",
        "\n",
        "# Q8. 마스킹 연산을 이용하여 matrix 중 5보다 작은 수들만 추출하여 출력해보세요.\n",
        "print(matrix[matrix<5])"
      ],
      "execution_count": 28,
      "outputs": [
        {
          "output_type": "stream",
          "text": [
            "[[0 1 2 3]\n",
            " [4 5 6 7]]\n",
            "28\n",
            "7\n",
            "0\n",
            "3.5\n",
            "[ 4  6  8 10]\n",
            "[ 6 22]\n",
            "2.29128784747792\n",
            "[0 1 2 3 4]\n"
          ],
          "name": "stdout"
        }
      ]
    },
    {
      "cell_type": "markdown",
      "metadata": {
        "id": "juDzmd32J2oq"
      },
      "source": [
        "# 양치기 소년의 거짓말 횟수 구하기\n",
        "- 주어진 daily_liar_data 배열은 양치기 소년이 100일동안 한 말을 정리한 배열입니다. 0은 거짓말을 한 날이고, 1은 거짓말을 하지 않은 날입니다. 양치기소년이 100일 중 거짓말을 총 몇 번 했는지, 그 횟수를 세어 정확히 출력해주세요."
      ]
    },
    {
      "cell_type": "code",
      "metadata": {
        "colab": {
          "base_uri": "https://localhost:8080/"
        },
        "id": "swnKBDAWJt22",
        "outputId": "c8ed318b-7618-4872-c5e3-ee5f2337c703"
      },
      "source": [
        "daily_liar_data = [0, 0, 0, 0, 0, 1, 1, 0, 1, 1, 0, 0, 0, 1, 0, 0, 1, 0, 0, 1, 0, 0, 0, 1, 0, 0, 0, 0, 0, 1, 0, 0, 0, 1, 0, 0, 0, 0, 0, 0, 0, 0, 0, 0, 1, 1, 0, 1, 1, 0, 0, 0, 0, 0, 1, 0, 1, 0, 0, 1, 0, 1, 0, 0, 1, 0, 0, 0, 0, 0, 1, 0, 1, 0, 1, 1, 0, 0, 0, 1, 0, 0, 0, 1, 0, 0, 1, 0, 0, 1, 0, 1, 0, 0, 1, 0, 0, 0, 0, 0]\n",
        "\n",
        "# 양치기 소년이 거짓말을 몇 번 했는지 구하여 출력해주세요.\n",
        "\n",
        "def main() :\n",
        "    print(daily_liar_data.count(0))\n",
        "\n",
        "if __name__ == \"__main__\" :\n",
        "    main()"
      ],
      "execution_count": 29,
      "outputs": [
        {
          "output_type": "stream",
          "text": [
            "71\n"
          ],
          "name": "stdout"
        }
      ]
    }
  ]
}