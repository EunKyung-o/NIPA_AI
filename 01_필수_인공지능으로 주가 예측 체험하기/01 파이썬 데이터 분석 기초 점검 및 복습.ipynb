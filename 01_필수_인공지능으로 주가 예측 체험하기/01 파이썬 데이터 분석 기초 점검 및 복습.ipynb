{
 "metadata": {
  "language_info": {
   "codemirror_mode": {
    "name": "ipython",
    "version": 3
   },
   "file_extension": ".py",
   "mimetype": "text/x-python",
   "name": "python",
   "nbconvert_exporter": "python",
   "pygments_lexer": "ipython3",
   "version": "3.7.6-final"
  },
  "orig_nbformat": 2,
  "kernelspec": {
   "name": "python_defaultSpec_1601448122647",
   "display_name": "Python 3.7.6 64-bit ('base': conda)",
   "metadata": {
    "interpreter": {
     "hash": "744707d79c56a9104598100d978134591d28c828233b0a514ee23dd11b47b3cc"
    }
   }
  }
 },
 "nbformat": 4,
 "nbformat_minor": 2,
 "cells": [
  {
   "source": [
    "# 첫 코드 실행해보기"
   ],
   "cell_type": "markdown",
   "metadata": {}
  },
  {
   "cell_type": "code",
   "execution_count": 1,
   "metadata": {
    "tags": []
   },
   "outputs": [
    {
     "output_type": "stream",
     "name": "stdout",
     "text": "첫 코딩을 시작했어요!\n"
    }
   ],
   "source": [
    "# 다음 코드를 수정하여 첫 코딩을 시작했어요! 를 표시(출력)해봅니다.\n",
    "print(\"첫 코딩을 시작했어요!\")"
   ]
  },
  {
   "source": [
    "# 변수와 연산자"
   ],
   "cell_type": "markdown",
   "metadata": {}
  },
  {
   "cell_type": "code",
   "execution_count": 2,
   "metadata": {
    "tags": []
   },
   "outputs": [
    {
     "output_type": "stream",
     "name": "stdout",
     "text": "150\n"
    }
   ],
   "source": [
    "# num1 변수를 선언하고, num1 변수에 정수 10을 대입합니다.\n",
    "num1 = 5\n",
    "\n",
    "# num2 변수를 선언하고, num2 변수에 정수 5을 대입합니다.\n",
    "num2 = 10\n",
    "\n",
    "# num1과 num2를 더하고, 더한 값에 10을 곱한 값을 result 변수에 저장합니다.\n",
    "result = (num1 + num2) * 10\n",
    "\n",
    "# result 값을 출력합니다.\n",
    "print(result)"
   ]
  },
  {
   "source": [
    "# 반복문과 조건문"
   ],
   "cell_type": "markdown",
   "metadata": {}
  },
  {
   "cell_type": "code",
   "execution_count": 3,
   "metadata": {
    "tags": []
   },
   "outputs": [
    {
     "output_type": "stream",
     "name": "stdout",
     "text": "2 4 6 8 10 12 14 16 18 20 22 24 26 28 30 32 34 36 38 40 42 44 46 48 50 52 54 56 58 60 62 64 66 68 70 72 74 76 78 80 82 84 86 88 90 92 94 96 98 100 "
    }
   ],
   "source": [
    "# 반복문과 조건문을 조합해 1부터 100까지 숫자 중 짝수만 출력해봅시다\n",
    "for i in range(1, 101):\n",
    "    if i % 2 == 0 :        # 여기에 조건을 입력해보세요!\n",
    "        print(i, end=\" \")"
   ]
  },
  {
   "source": [
    "# 리스트의 활용"
   ],
   "cell_type": "markdown",
   "metadata": {}
  },
  {
   "cell_type": "code",
   "execution_count": 4,
   "metadata": {
    "tags": []
   },
   "outputs": [
    {
     "output_type": "stream",
     "name": "stdout",
     "text": "91\n71\n51\n"
    }
   ],
   "source": [
    "# 여기 빈 리스트가 있습니다.\n",
    "number_list = []\n",
    "\n",
    "# number_list에 1부터 100까지 수를 거꾸로 넣어보세요\n",
    "# 예: 100, 99, 98, ... 3, 2, 1\n",
    "for i in range (0, 100) :\n",
    "    number_list.append(100-i)\n",
    "\n",
    "# number_list에서 10번째, 30번째, 50번째 원소를 각각 출력해봅시다\n",
    "print(number_list[9]) # 10번째 원소\n",
    "print(number_list[29]) # 30번째 원소\n",
    "print(number_list[49]) # 50번째 원소"
   ]
  },
  {
   "source": [
    "# 나만의 함수 만들기"
   ],
   "cell_type": "markdown",
   "metadata": {}
  },
  {
   "cell_type": "code",
   "execution_count": 5,
   "metadata": {
    "tags": []
   },
   "outputs": [
    {
     "output_type": "stream",
     "name": "stdout",
     "text": "100\n"
    }
   ],
   "source": [
    "# 입력 숫자\n",
    "input_num = 10\n",
    "\n",
    "# 숫자 데이터를 넣었을 때 10배로 되돌려주는 함수\n",
    "def my_function(n):\n",
    "    return n * 10\n",
    "\n",
    "# my_function을 사용하여 result에 값을 저장합니다.\n",
    "result = my_function(input_num)\n",
    "\n",
    "# 최종 결과값을 출력합니다.\n",
    "print(result)"
   ]
  },
  {
   "source": [
    "# pandas 기본"
   ],
   "cell_type": "markdown",
   "metadata": {}
  },
  {
   "cell_type": "code",
   "execution_count": 6,
   "metadata": {
    "tags": []
   },
   "outputs": [
    {
     "output_type": "stream",
     "name": "stdout",
     "text": "0         19\n1         23\n2         24\n3         24\n4         27\n       ...  \n177    14175\n178    14203\n179    14251\n180    14269\n181    14305\nName: 확진자, Length: 182, dtype: int64\n"
    }
   ],
   "source": [
    "import pandas as pd\n",
    "\n",
    "# 코로나 엑셀 데이터 파일(.xlsx)이 저장된 경로입니다.\n",
    "# \".\\nipa_ExperiencePredictingStockPricesWithArtificialIntelligence\"에서 작업 중\n",
    "# Copy Relative Path로 경로 확인\n",
    "data_path = 'data\\corona_data.xlsx'\n",
    "\n",
    "# pandas를 활용해 엑셀 파일을 불러오고, corona_data에 저장합니다.\n",
    "corona_data = pd.read_excel(data_path)\n",
    "\n",
    "# corona_data셋에서 '확진자' 데이터만 추출하여 출력해보세요\n",
    "confirmed = corona_data['확진자']\n",
    "print(confirmed)"
   ]
  },
  {
   "cell_type": "code",
   "execution_count": 7,
   "metadata": {
    "tags": []
   },
   "outputs": [
    {
     "output_type": "stream",
     "name": "stdout",
     "text": "180    300\nName: 사망자, dtype: int64\n"
    }
   ],
   "source": [
    "# .loc을 활용하여 7월 30일('2020-07-30')의 사망자 데이터를 추출해봅니다.\n",
    "death_0730 = corona_data.loc[corona_data['날짜']=='2020-07-30', '사망자']\n",
    "print(death_0730)"
   ]
  },
  {
   "cell_type": "code",
   "execution_count": 8,
   "metadata": {
    "tags": []
   },
   "outputs": [
    {
     "output_type": "stream",
     "name": "stdout",
     "text": "            날짜   격리해제  사망자    확진자     누적검사\n60  2020-04-03   6021  174  10062   443273\n61  2020-04-04   6325  177  10156   455032\n62  2020-04-05   6463  183  10237   461233\n63  2020-04-06   6598  186  10284   466804\n64  2020-04-07   6694  192  10331   477304\n..         ...    ...  ...    ...      ...\n177 2020-07-27  12905  299  14175  1526974\n178 2020-07-28  13007  300  14203  1537704\n179 2020-07-29  13069  300  14251  1547307\n180 2020-07-30  13132  300  14269  1556215\n181 2020-07-31  13183  301  14305  1563796\n\n[122 rows x 5 columns]\n"
    }
   ],
   "source": [
    "# 확진자가 10000명 이상인 시점부터의 모든 데이터를 추출합니다.\n",
    "confirmed_10000 = corona_data.loc[corona_data[\"확진자\"] >= 10000]\n",
    "print(confirmed_10000)"
   ]
  }
 ]
}